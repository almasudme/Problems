{
 "cells": [
  {
   "cell_type": "markdown",
   "metadata": {},
   "source": [
    "# remove duplicates from sorted array\n",
    "\n",
    "Given an integer array nums sorted in non-decreasing order, remove the duplicates in-place such that each unique element appears only once. The relative order of the elements should be kept the same.\n",
    "\n",
    "Since it is impossible to change the length of the array in some languages, you must instead have the result be placed in the first part of the array nums. More formally, if there are k elements after removing the duplicates, then the first k elements of nums should hold the final result. It does not matter what you leave beyond the first k elements.\n",
    "\n",
    "Return k after placing the final result in the first k slots of nums.\n",
    "\n",
    "Do not allocate extra space for another array. You must do this by modifying the input array in-place with O(1) extra memory."
   ]
  },
  {
   "cell_type": "code",
   "execution_count": 5,
   "metadata": {},
   "outputs": [
    {
     "name": "stdout",
     "output_type": "stream",
     "text": [
      "[2, 3, 4, 5, 8, 99]\n"
     ]
    }
   ],
   "source": [
    "nums = [2,2,3,3,4,5,8,8,8,99,99,425]\n",
    "\n",
    "i=j=0\n",
    "n=len(nums)\n",
    "\n",
    "for j in range(n):\n",
    "    if nums[i]!=nums[j]:\n",
    "        i+=1\n",
    "        nums[i]=nums[j]\n",
    "    else:\n",
    "        continue\n",
    "\n",
    "print(nums[:i]) \n",
    "\n",
    "\n",
    "\n",
    "\n"
   ]
  },
  {
   "cell_type": "markdown",
   "metadata": {},
   "source": [
    "# buy sell stock\n",
    "You are given an integer array prices where prices[i] is the price of a given stock on the ith day.\n",
    "\n",
    "On each day, you may decide to buy and/or sell the stock. You can only hold at most one share of the stock at any time. However, you can buy it then immediately sell it on the same day.\n",
    "\n",
    "Find and return the maximum profit you can achieve."
   ]
  },
  {
   "cell_type": "code",
   "execution_count": 8,
   "metadata": {},
   "outputs": [
    {
     "name": "stdout",
     "output_type": "stream",
     "text": [
      "0\n"
     ]
    }
   ],
   "source": [
    "prices = [7,1,5,3,6,4]\n",
    "prices = [7,6,4,3,1]\n",
    "\n",
    "n= len(prices)\n",
    "max_profit=0\n",
    "\n",
    "for i in range(1,n):\n",
    "    if prices[i]>prices[i-1]:\n",
    "        max_profit += prices[i] -prices[i-1]\n",
    "\n",
    "print(max_profit)\n"
   ]
  },
  {
   "cell_type": "markdown",
   "metadata": {},
   "source": [
    "# rotate Array\n",
    "Given an array, rotate the array to the right by k steps, where k is non-negative.\n",
    "Example 1:<br>\n",
    "Input: nums = [1,2,3,4,5,6,7], k = 3<br>\n",
    "Output: [5,6,7,1,2,3,4]<br>\n",
    "Explanation:<br>\n",
    "rotate 1 steps to the right: [7,1,2,3,4,5,6]<br>\n",
    "rotate 2 steps to the right: [6,7,1,2,3,4,5]<br>\n",
    "rotate 3 steps to the right: [5,6,7,1,2,3,4]<br>"
   ]
  },
  {
   "cell_type": "markdown",
   "metadata": {},
   "source": []
  },
  {
   "cell_type": "code",
   "execution_count": null,
   "metadata": {},
   "outputs": [],
   "source": [
    "nums=[1,2,3,4,5,6,7]\n",
    "\n",
    "n = len(nums)\n",
    "k=3\n",
    "\n",
    "for i in range(k):\n",
    "    "
   ]
  },
  {
   "cell_type": "markdown",
   "metadata": {},
   "source": [
    "# longest non-repeated substring\n",
    "Given a string s, find the length of the longest substring without repeating characters.\n",
    "\n",
    "Example 1:\n",
    "\n",
    "Input: s = \"abcabcbb\"\n",
    "Output: 3\n",
    "Explanation: The answer is \"abc\", with the length of 3.\n",
    "Example 2:\n",
    "\n",
    "Input: s = \"bbbbb\"\n",
    "Output: 1\n",
    "Explanation: The answer is \"b\", with the length of 1.\n",
    "Example 3:\n",
    "\n",
    "Input: s = \"pwwkew\"\n",
    "Output: 3\n",
    "Explanation: The answer is \"wke\", with the length of 3.\n",
    "Notice that the answer must be a substring, \"pwke\" is a subsequence and not a substring.\n",
    "Example 4:\n",
    "\n",
    "Input: s = \"\"\n",
    "Output: 0\n",
    "\n",
    "### brute force"
   ]
  },
  {
   "cell_type": "code",
   "execution_count": 13,
   "metadata": {},
   "outputs": [
    {
     "name": "stdout",
     "output_type": "stream",
     "text": [
      "11\n"
     ]
    }
   ],
   "source": [
    "s= \"abcasdljf;ldskhgflkdjsfhghkjsljkd.;l/'s;fjfhdgkljdfhgkjhkjhsdgkjhgdskjhgfdgfhdghghghghgggggggggggggggggggggggggggggggggggggggggggggggggggggggggggggggggggggggggadklfjhgvsbassdls;abcbb\"\n",
    "\n",
    "def brute(s):\n",
    "    n = len(s)\n",
    "    max_len=0\n",
    "    if n==1: print(1)\n",
    "    if n<1: print(0)\n",
    "\n",
    "    for i in range(n):\n",
    "        temp_str=\"\"            \n",
    "        temp_len=1\n",
    "        for j in range(i+1,n):\n",
    "            if s[i] ==s[j] or (s[j] in temp_str):\n",
    "                break\n",
    "            else:\n",
    "                temp_str+=s[j]                    \n",
    "                temp_len+=1\n",
    "                \n",
    "                \n",
    "        max_len=max(max_len,temp_len)\n",
    "        # print(s[i],max_len,temp_str,set(temp_str))\n",
    "    return(max_len)\n",
    "print(brute(s))    \n"
   ]
  },
  {
   "cell_type": "markdown",
   "metadata": {},
   "source": [
    "### sliding window"
   ]
  },
  {
   "cell_type": "code",
   "execution_count": 14,
   "metadata": {},
   "outputs": [
    {
     "data": {
      "text/plain": [
       "11"
      ]
     },
     "execution_count": 14,
     "metadata": {},
     "output_type": "execute_result"
    }
   ],
   "source": [
    "def sliding_max(s):\n",
    "    n=len(s)\n",
    "    left=right=maxlen=0\n",
    "    s_set=set()\n",
    "\n",
    "    while right<n:\n",
    "        if  s[right] not in s_set :        \n",
    "            s_set.add(s[right])\n",
    "            right+=1\n",
    "        else:\n",
    "            left+=1\n",
    "            right=left\n",
    "            s_set=set()\n",
    "\n",
    "        maxlen=max(maxlen,right-left)\n",
    "    return( maxlen)\n",
    "sliding_max(s)"
   ]
  },
  {
   "cell_type": "code",
   "execution_count": null,
   "metadata": {},
   "outputs": [],
   "source": [
    "# . Longest Palindromic Substring"
   ]
  }
 ],
 "metadata": {
  "interpreter": {
   "hash": "625c31d6b4db3d7e7e2853cc30dc2062e1cda684f3e49d5f899ae496ae755fe0"
  },
  "kernelspec": {
   "display_name": "Python 3.8.12 64-bit ('3.8.12': pyenv)",
   "name": "python3"
  },
  "language_info": {
   "codemirror_mode": {
    "name": "ipython",
    "version": 3
   },
   "file_extension": ".py",
   "mimetype": "text/x-python",
   "name": "python",
   "nbconvert_exporter": "python",
   "pygments_lexer": "ipython3",
   "version": "3.8.12"
  },
  "orig_nbformat": 4
 },
 "nbformat": 4,
 "nbformat_minor": 2
}
